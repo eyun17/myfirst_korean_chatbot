{
 "cells": [
  {
   "cell_type": "code",
   "execution_count": 3,
   "id": "initial_id",
   "metadata": {
    "collapsed": true,
    "ExecuteTime": {
     "end_time": "2024-04-19T21:53:52.702357Z",
     "start_time": "2024-04-19T21:53:49.180871Z"
    }
   },
   "outputs": [
    {
     "name": "stdout",
     "output_type": "stream",
     "text": [
      "shape x:(185, 15) / y:(185,)\n",
      "train_x.shape:(185, 15, 1)\n",
      "train_y.shape:(185,)\n"
     ]
    }
   ],
   "source": [
    "import numpy as np\n",
    "import matplotlib.pyplot as plt\n",
    "\n",
    "from tensorflow.keras.models import Sequential\n",
    "from tensorflow.keras.layers import Flatten, Dense, LSTM, Activation\n",
    "\n",
    "# TIME step 마늠 시퀀스 데이터 분석\n",
    "def split_sequence(sequence, step):\n",
    "    # split sequence\n",
    "    x, y = list(), list()\n",
    "    \n",
    "    # put end_idx to the end of the sequence, if end_idx is bigger than the length of the sequence, break\n",
    "    for i in range(len(sequence)):\n",
    "        end_idx = i + step\n",
    "        if end_idx > len(sequence) - 1:\n",
    "            break\n",
    "            \n",
    "        # gather input and output parts of the pattern\n",
    "        seq_x, seq_y = sequence[i:end_idx], sequence[end_idx]\n",
    "        # append to the list\n",
    "        x.append(seq_x)\n",
    "        y.append(seq_y)\n",
    "        \n",
    "    return np.array(x), np.array(y)\n",
    "   \n",
    "   \n",
    "# Sin function train data\n",
    "x = [i for i in np.arange(start=-10, stop=10, step=0.1)]\n",
    "train_y = [np.sin(i) for i in x]\n",
    "\n",
    "# hyperparameter\n",
    "n_timesteps = 15\n",
    "n_features = 1\n",
    "\n",
    "# split sequence\n",
    "# 15개의 데이터를 보고 다음 데이터를 예측\n",
    "# train_x.shape => (samples, timesteps)\n",
    "# train_y.shape => (samples)\n",
    "train_x, train_y = split_sequence(train_y, n_timesteps)\n",
    "print(\"shape x:{} / y:{}\".format(train_x.shape, train_y.shape))\n",
    "\n",
    "# Change the dimension of the vector to adjust the rnn input shape\n",
    "# reshape from [samples, timesteps] into [samples, timesteps, features]\n",
    "train_x = train_x.reshape(train_x.shape[0], train_x.shape[1], n_features)\n",
    "print(\"train_x.shape:{}\".format(train_x.shape))\n",
    "print(\"train_y.shape:{}\".format(train_y.shape))\n",
    "\n",
    "\n"
   ]
  },
  {
   "cell_type": "code",
   "execution_count": 5,
   "outputs": [
    {
     "ename": "NameError",
     "evalue": "name 'SimpleRNN' is not defined",
     "output_type": "error",
     "traceback": [
      "\u001B[0;31m---------------------------------------------------------------------------\u001B[0m",
      "\u001B[0;31mNameError\u001B[0m                                 Traceback (most recent call last)",
      "Cell \u001B[0;32mIn[5], line 3\u001B[0m\n\u001B[1;32m      1\u001B[0m \u001B[38;5;66;03m# RNN 모델 정의 \u001B[39;00m\n\u001B[1;32m      2\u001B[0m model \u001B[38;5;241m=\u001B[39m Sequential()\n\u001B[0;32m----> 3\u001B[0m model\u001B[38;5;241m.\u001B[39madd(\u001B[43mSimpleRNN\u001B[49m(units\u001B[38;5;241m=\u001B[39m\u001B[38;5;241m10\u001B[39m,\n\u001B[1;32m      4\u001B[0m                     return_sequences\u001B[38;5;241m=\u001B[39m\u001B[38;5;28;01mFalse\u001B[39;00m,\n\u001B[1;32m      5\u001B[0m                     input_shape\u001B[38;5;241m=\u001B[39m(n_timesteps, n_features)))\n\u001B[1;32m      6\u001B[0m model\u001B[38;5;241m.\u001B[39madd(Dense(\u001B[38;5;241m1\u001B[39m))\n\u001B[1;32m      7\u001B[0m model\u001B[38;5;241m.\u001B[39mcompile(optimizer\u001B[38;5;241m=\u001B[39m\u001B[38;5;124m'\u001B[39m\u001B[38;5;124madam\u001B[39m\u001B[38;5;124m'\u001B[39m, loss\u001B[38;5;241m=\u001B[39m\u001B[38;5;124m'\u001B[39m\u001B[38;5;124mmse\u001B[39m\u001B[38;5;124m'\u001B[39m)\n",
      "\u001B[0;31mNameError\u001B[0m: name 'SimpleRNN' is not defined"
     ]
    }
   ],
   "source": [
    "# RNN 모델 정의 \n",
    "model = Sequential()\n",
    "model.add(SimpleRNN(units=10,\n",
    "                    return_sequences=False,\n",
    "                    input_shape=(n_timesteps, n_features)))\n",
    "model.add(Dense(1))\n",
    "model.compile(optimizer='adam', loss='mse')\n",
    "\n",
    "# 모델 학습\n",
    "np.random.seed(0)\n",
    "# seed(0) => 항상 같은 결과를 얻기 위해 사용\n",
    "from tensorflow.keras.callbacks import EarlyStopping\n",
    "early_stopping = EarlyStopping(\n",
    "    monitor='loss', \n",
    "    patience=5,  # stop training when loss is not improving after 5 epochs\n",
    "    mode='auto')# mode \"auto\" means that it automatically determines the direction of the improvement\n",
    "history = model.fit(train_x, train_y, epochs=1000, callbacks=[early_stopping])"
   ],
   "metadata": {
    "collapsed": false,
    "ExecuteTime": {
     "end_time": "2024-04-19T21:54:13.694507Z",
     "start_time": "2024-04-19T21:54:13.674331Z"
    }
   },
   "id": "5184ea49eee77c53"
  },
  {
   "cell_type": "code",
   "execution_count": 6,
   "outputs": [
    {
     "ename": "NameError",
     "evalue": "name 'history' is not defined",
     "output_type": "error",
     "traceback": [
      "\u001B[0;31m---------------------------------------------------------------------------\u001B[0m",
      "\u001B[0;31mNameError\u001B[0m                                 Traceback (most recent call last)",
      "Cell \u001B[0;32mIn[6], line 1\u001B[0m\n\u001B[0;32m----> 1\u001B[0m plt\u001B[38;5;241m.\u001B[39mplot(\u001B[43mhistory\u001B[49m\u001B[38;5;241m.\u001B[39mhistory[\u001B[38;5;124m'\u001B[39m\u001B[38;5;124mloss\u001B[39m\u001B[38;5;124m'\u001B[39m], label\u001B[38;5;241m=\u001B[39m\u001B[38;5;124m'\u001B[39m\u001B[38;5;124mloss\u001B[39m\u001B[38;5;124m'\u001B[39m)\n\u001B[1;32m      2\u001B[0m plt\u001B[38;5;241m.\u001B[39mlegend(loc\u001B[38;5;241m=\u001B[39m\u001B[38;5;124m'\u001B[39m\u001B[38;5;124mupper right\u001B[39m\u001B[38;5;124m'\u001B[39m)\n\u001B[1;32m      3\u001B[0m plt\u001B[38;5;241m.\u001B[39mshow()\n",
      "\u001B[0;31mNameError\u001B[0m: name 'history' is not defined"
     ]
    }
   ],
   "source": [
    "plt.plot(history.history['loss'], label='loss')\n",
    "plt.legend(loc='upper right')\n",
    "plt.show()"
   ],
   "metadata": {
    "collapsed": false,
    "ExecuteTime": {
     "end_time": "2024-04-19T21:54:15.023081Z",
     "start_time": "2024-04-19T21:54:15.004852Z"
    }
   },
   "id": "f41911bb5d3942b6"
  },
  {
   "cell_type": "code",
   "execution_count": 7,
   "outputs": [],
   "source": [
    "# test \n",
    "test_x = np.arange(10, 20, 0.1)\n",
    "calc_y = np.cos(test_x) # test data\n",
    "\n"
   ],
   "metadata": {
    "collapsed": false,
    "ExecuteTime": {
     "end_time": "2024-04-19T21:54:40.017818Z",
     "start_time": "2024-04-19T21:54:40.009425Z"
    }
   },
   "id": "decef0fce0e5bb1e"
  },
  {
   "cell_type": "code",
   "execution_count": null,
   "outputs": [],
   "source": [
    "# to predict the future value, we need to predict step by step\n",
    "test_y = calc_y[:n_timesteps]\n",
    "for i in range(text_x) - n_timesteps:\n",
    "    net_input = test_y[i: i+n_timesteps]\n",
    "    net_input = net_input.reshape((1, n_timesteps, n_features))\n",
    "    predict_y = model.predict(net_input)\n",
    "    test_y = np.append(test_y, predict_y)\n",
    "    "
   ],
   "metadata": {
    "collapsed": false
   },
   "id": "39554c3b5bfb96b1"
  },
  {
   "cell_type": "code",
   "execution_count": null,
   "outputs": [],
   "source": [
    "plt.plot(calc_y, label='ground truth', color='orange')\n",
    "plt.plot(test_y, label='prediction', color='blue')\n",
    "plt.legend(loc='upper right')\n",
    "plt.ylim(-2, 2)\n",
    "plt.show()"
   ],
   "metadata": {
    "collapsed": false
   },
   "id": "37c87834cd87150f"
  }
 ],
 "metadata": {
  "kernelspec": {
   "display_name": "Python 3",
   "language": "python",
   "name": "python3"
  },
  "language_info": {
   "codemirror_mode": {
    "name": "ipython",
    "version": 2
   },
   "file_extension": ".py",
   "mimetype": "text/x-python",
   "name": "python",
   "nbconvert_exporter": "python",
   "pygments_lexer": "ipython2",
   "version": "2.7.6"
  }
 },
 "nbformat": 4,
 "nbformat_minor": 5
}
