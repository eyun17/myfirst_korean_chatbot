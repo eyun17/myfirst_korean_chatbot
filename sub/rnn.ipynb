{
 "cells": [
  {
   "cell_type": "code",
   "execution_count": 1,
   "id": "initial_id",
   "metadata": {
    "collapsed": true,
    "ExecuteTime": {
     "end_time": "2024-04-22T08:04:05.122019Z",
     "start_time": "2024-04-22T08:04:01.907477Z"
    }
   },
   "source": [
    "import numpy as np\n",
    "import matplotlib.pyplot as plt\n",
    "\n",
    "from tensorflow.keras.models import Sequential\n",
    "from tensorflow.keras.layers import Flatten, Dense, LSTM, Activation, SimpleRNN \n",
    "\n",
    "# TIME step 마늠 시퀀스 데이터 분석\n",
    "def split_sequence(sequence, step):\n",
    "    # split sequence\n",
    "    x, y = list(), list()\n",
    "    \n",
    "    # put end_idx to the end of the sequence, if end_idx is bigger than the length of the sequence, break\n",
    "    for i in range(len(sequence)):\n",
    "        end_idx = i + step\n",
    "        if end_idx > len(sequence) - 1:\n",
    "            break\n",
    "            \n",
    "        # gather input and output parts of the pattern\n",
    "        seq_x, seq_y = sequence[i:end_idx], sequence[end_idx]\n",
    "        # append to the list\n",
    "        x.append(seq_x)\n",
    "        y.append(seq_y)\n",
    "        \n",
    "    return np.array(x), np.array(y)\n",
    "   \n",
    "   \n",
    "# Sin function train data\n",
    "x = [i for i in np.arange(start=-10, stop=10, step=0.1)]\n",
    "train_y = [np.sin(i) for i in x]\n",
    "\n",
    "# hyperparameter\n",
    "n_timesteps = 15\n",
    "n_features = 1\n",
    "\n",
    "# split sequence\n",
    "# 15개의 데이터를 보고 다음 데이터를 예측\n",
    "# train_x.shape => (samples, timesteps)\n",
    "# train_y.shape => (samples)\n",
    "train_x, train_y = split_sequence(train_y, n_timesteps)\n",
    "print(\"shape x:{} / y:{}\".format(train_x.shape, train_y.shape))\n",
    "\n",
    "# Change the dimension of the vector to adjust the rnn input shape\n",
    "# reshape from [samples, timesteps] into [samples, timesteps, features]\n",
    "train_x = train_x.reshape(train_x.shape[0], train_x.shape[1], n_features)\n",
    "print(\"train_x.shape:{}\".format(train_x.shape))\n",
    "print(\"train_y.shape:{}\".format(train_y.shape))\n",
    "\n",
    "\n"
   ],
   "outputs": []
  },
  {
   "cell_type": "code",
   "execution_count": 3,
   "source": [
    "# RNN 모델 정의 \n",
    "model = Sequential()\n",
    "model.add(SimpleRNN(units=10,\n",
    "                    return_sequences=False,\n",
    "                    input_shape=(n_timesteps, n_features)))\n",
    "model.add(Dense(1))\n",
    "model.compile(optimizer='adam', loss='mse')\n",
    "\n",
    "# 모델 학습\n",
    "np.random.seed(0)\n",
    "# seed(0) => 항상 같은 결과를 얻기 위해 사용\n",
    "from tensorflow.keras.callbacks import EarlyStopping\n",
    "early_stopping = EarlyStopping(\n",
    "    monitor='loss', \n",
    "    patience=5,  # stop training when loss is not improving after 5 epochs\n",
    "    mode='auto')# mode \"auto\" means that it automatically determines the direction of the improvement\n",
    "history = model.fit(train_x, train_y, epochs=1000, callbacks=[early_stopping])"
   ],
   "metadata": {
    "collapsed": false,
    "ExecuteTime": {
     "end_time": "2024-04-22T08:07:54.353147Z",
     "start_time": "2024-04-22T08:06:00.067511Z"
    }
   },
   "id": "5184ea49eee77c53",
   "outputs": []
  },
  {
   "cell_type": "code",
   "execution_count": 4,
   "source": [
    "plt.plot(history.history['loss'], label='loss')\n",
    "plt.legend(loc='upper right')\n",
    "plt.show()"
   ],
   "metadata": {
    "collapsed": false,
    "ExecuteTime": {
     "end_time": "2024-04-22T08:08:58.882589Z",
     "start_time": "2024-04-22T08:08:58.775941Z"
    }
   },
   "id": "f41911bb5d3942b6",
   "outputs": []
  },
  {
   "cell_type": "code",
   "execution_count": 5,
   "source": [
    "# test \n",
    "test_x = np.arange(10, 20, 0.1)\n",
    "calc_y = np.cos(test_x) # test data\n",
    "\n"
   ],
   "metadata": {
    "collapsed": false,
    "ExecuteTime": {
     "end_time": "2024-04-22T08:09:05.234283Z",
     "start_time": "2024-04-22T08:09:05.231184Z"
    }
   },
   "id": "decef0fce0e5bb1e",
   "outputs": []
  },
  {
   "cell_type": "code",
   "execution_count": 6,
   "source": [
    "# to predict the future value, we need to predict step by step\n",
    "test_y = calc_y[:n_timesteps]\n",
    "for i in range(len(test_x) - n_timesteps):\n",
    "    net_input = test_y[i: i+n_timesteps]\n",
    "    net_input = net_input.reshape((1, n_timesteps, n_features))\n",
    "    predict_y = model.predict(net_input)\n",
    "    test_y = np.append(test_y, predict_y)\n",
    "    "
   ],
   "metadata": {
    "collapsed": false,
    "ExecuteTime": {
     "end_time": "2024-04-22T08:09:10.471887Z",
     "start_time": "2024-04-22T08:09:07.130228Z"
    }
   },
   "id": "39554c3b5bfb96b1",
   "outputs": []
  },
  {
   "cell_type": "code",
   "execution_count": 7,
   "source": [
    "plt.plot(calc_y, label='ground truth', color='orange')\n",
    "plt.plot(test_y, label='prediction', color='blue')\n",
    "plt.legend(loc='upper right')\n",
    "plt.ylim(-2, 2)\n",
    "plt.show()"
   ],
   "metadata": {
    "collapsed": false,
    "ExecuteTime": {
     "end_time": "2024-04-22T08:09:17.708618Z",
     "start_time": "2024-04-22T08:09:17.658569Z"
    }
   },
   "id": "37c87834cd87150f",
   "outputs": []
  },
  {
   "cell_type": "code",
   "execution_count": null,
   "source": [],
   "metadata": {
    "collapsed": false
   },
   "id": "e4658b0375bdc06b",
   "outputs": []
  }
 ],
 "metadata": {
  "kernelspec": {
   "display_name": "Python 3",
   "language": "python",
   "name": "python3"
  },
  "language_info": {
   "codemirror_mode": {
    "name": "ipython",
    "version": 2
   },
   "file_extension": ".py",
   "mimetype": "text/x-python",
   "name": "python",
   "nbconvert_exporter": "python",
   "pygments_lexer": "ipython2",
   "version": "2.7.6"
  }
 },
 "nbformat": 4,
 "nbformat_minor": 5
}
