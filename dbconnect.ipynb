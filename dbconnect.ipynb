{
 "cells": [
  {
   "cell_type": "code",
   "execution_count": 5,
   "outputs": [
    {
     "name": "stdout",
     "output_type": "stream",
     "text": [
      "(2003, \"Can't connect to MySQL server on '127.0.0.1' ([Errno 61] Connection refused)\")\n"
     ]
    }
   ],
   "source": [
    "# DB 호스트 연결 닫기 \n",
    "import pymysql\n",
    "\n",
    "db = None\n",
    "try:\n",
    "    db = pymysql.connect(\n",
    "        host='127.0.0.1',\n",
    "        user ='homestead',\n",
    "        passwd='secret',\n",
    "        db='homestead',\n",
    "        charset='utf8'\n",
    "    )\n",
    "    print('DB 연결 성공')\n",
    "    \n",
    "    # 테이블 생성 sql 정의\n",
    "    sql = '''\n",
    "    CREATE TABLE tb_student (\n",
    "        id int primary key auto_increment not null,\n",
    "        name varchar(32),\n",
    "        age int,\n",
    "        address varchar(32)\n",
    "    ) ENGINE=InnoDB DEFAULT CHARSET=utf8\n",
    "    '''\n",
    "    \n",
    "    # 테이블 생성 \n",
    "    with db.cursor() as cursor:\n",
    "        cursor.execute(sql)\n",
    "        print('테이블 생성 성공')\n",
    "    \n",
    "    \n",
    "except Exception as e:\n",
    "    print(e) # db 연결 실패시 오류 내용 출력\n",
    "    \n",
    "finally:\n",
    "    if db is not None:\n",
    "        db.close()\n",
    "        print('DB 연결 닫기 성공')\n"
   ],
   "metadata": {
    "collapsed": false,
    "ExecuteTime": {
     "end_time": "2024-04-26T13:21:43.297890Z",
     "start_time": "2024-04-26T13:21:43.291444Z"
    }
   },
   "id": "430ec6aeb5fd8cdf"
  },
  {
   "cell_type": "code",
   "execution_count": 3,
   "outputs": [],
   "source": [
    "# 테이블 생성\n",
    "import pymysq\n"
   ],
   "metadata": {
    "collapsed": false,
    "ExecuteTime": {
     "end_time": "2024-04-19T21:36:30.696308Z",
     "start_time": "2024-04-19T21:36:30.693218Z"
    }
   },
   "id": "9abbefe4f20dc12e"
  },
  {
   "cell_type": "code",
   "execution_count": null,
   "outputs": [],
   "source": [],
   "metadata": {
    "collapsed": false
   },
   "id": "f744bafeb5f42fe0"
  }
 ],
 "metadata": {
  "kernelspec": {
   "display_name": "Python 3",
   "language": "python",
   "name": "python3"
  },
  "language_info": {
   "codemirror_mode": {
    "name": "ipython",
    "version": 2
   },
   "file_extension": ".py",
   "mimetype": "text/x-python",
   "name": "python",
   "nbconvert_exporter": "python",
   "pygments_lexer": "ipython2",
   "version": "2.7.6"
  }
 },
 "nbformat": 4,
 "nbformat_minor": 5
}
